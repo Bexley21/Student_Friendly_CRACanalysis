{
 "cells": [
  {
   "cell_type": "markdown",
   "id": "12142ade",
   "metadata": {},
   "source": [
    "The initial code is specifying details abou the authors and then providing information on the pipeline purpose"
   ]
  },
  {
   "cell_type": "code",
   "execution_count": null,
   "id": "4bf29251",
   "metadata": {},
   "outputs": [],
   "source": [
    "#!/usr/bin/python\n",
    "__author__\t\t= \"Sander Granneman\"\n",
    "__copyright__\t= \"Copyright 2020\"\n",
    "__version__\t\t= \"0.7.0\"\n",
    "__credits__\t\t= [\"Sander Granneman\", \"Edward Wallace\"]\n",
    "__email__\t\t= [\"sgrannem@staffmail.ed.ac.uk\", \"edward.wallace@ed.ac.uk\"]\n",
    "__status__\t\t= \"beta\"\n",
    "\n",
    "\"\"\" CRAC_pipeline_SE_demult_dedup.py\n",
    "\n",
    "This is a pipeline for processing single-end multiplexed CRAC sequencing data.\n",
    "It is forked from CRAC_pipeline_SE.py v0.6.0, also written in ruffus.\n",
    "This pipeline is specialised for single-end data that is multiplexed in-line, so\n",
    "requires trimming of 3' adapters and demultiplexing, including deduplication. This \n",
    "simplifies the logic of the pipeline, no conditional execution needed.\n",
    "\n",
    "\"\"\""
   ]
  },
  {
   "cell_type": "markdown",
   "id": "47b370a9",
   "metadata": {},
   "source": [
    "This section just imports relevant tools to run the pipeline, including from rufus"
   ]
  },
  {
   "cell_type": "code",
   "execution_count": null,
   "id": "ab76b8c3",
   "metadata": {},
   "outputs": [],
   "source": [
    "from ruffus import *\n",
    "from ruffus.cmdline import MESSAGE\n",
    "from collections import defaultdict\n",
    "import ruffus.cmdline as cmdline\n",
    "import subprocess\n",
    "import platform\n",
    "import glob\n",
    "import re\n",
    "import os\n",
    "import argparse\n",
    "import sys\n",
    "import time"
   ]
  },
  {
   "cell_type": "markdown",
   "id": "2f426f56",
   "metadata": {},
   "source": [
    "This defines the fields of interest that exist in the GFF file, which will allow this informaton to be called later. The general file format (GFF) is used for numerous inputs in 'input_annotation' - inc mRNA transcript locations mapped to the genome, transcript annotations with ncRNAs and mRNAs broken down into parts (UTR, ORF etc) and a set of annotations of transcript features. "
   ]
  },
  {
   "cell_type": "code",
   "execution_count": null,
   "id": "f3296325",
   "metadata": {},
   "outputs": [],
   "source": [
    "GFF_FIELDS = [\"seqname\", \"source\", \"feature\", \"start\", \"end\", \"score\", \"strand\", \"frame\", \"attributes\"]"
   ]
  },
  {
   "cell_type": "markdown",
   "id": "af93b91c",
   "metadata": {},
   "source": [
    "Data parsing is a method to strucute data, it takes input data (in human friendly file forms) and breaks it into small segments more usable by computers, often organised in a parse tree. It is a processing library for arguments that are added. \n",
    "\n",
    "Supported actions include storing the argument (singly, or as part of a list), storing a constant value when the argument is encountered (including special handling for true/false values for boolean switches)and counting the number of times an argument is seen.\n",
    "\n",
    "Arguments here are:\n",
    "* The paths to .fastq files, paths to the gff files of annotations, to the chromosome file and the novoalign file (this is everything to aline reads to the genome)\n",
    "* Path to the barcodes file needed for demultiplexing, file of the 3' adapter sequences for trimming, an input variable of the number of mismatches allowed for demultiplexing and how many processors you want to use for this.\n",
    "* The path to a genelist file for pile up analysis and a genome sequence file to use for this.\n",
    "* The gff file containing transcript sequences for count anlaysis."
   ]
  },
  {
   "cell_type": "code",
   "execution_count": null,
   "id": "5f265379",
   "metadata": {},
   "outputs": [],
   "source": [
    "parser = cmdline.get_argparse(description=\"CRAC pipeline for processing single-end multiplexed CRAC data\")\n",
    "parser.add_argument(\"-f\",dest=\"forwardreads\",help=\"the path to your fastq read files.\",metavar=\"data_1.fastq data_2.fastq ...\",nargs=\"*\",default=None)\n",
    "parser.add_argument(\"-g\",\"--gtf\",dest=\"gtf\",help=\"the path to your gtf annotation file\",metavar=\"rRNA.gtf\",default=None)\n",
    "parser.add_argument(\"-c\",\"--chromosome\",dest=\"chromosome\",help=\"the path to your chromosome length file\",metavar=\"chromosome_lengths.txt\",default=None)\n",
    "parser.add_argument(\"--novoindex\",dest=\"novoindex\",help=\"the path to your novoindex file\",metavar=\"yeast.novoindex\",default=None)\n",
    "parser.add_argument(\"--name\",dest=\"name\",help=\"provide a single word describing the run. Default is 'analysis' with a time stamp\",default=\"analysis_%s\" % time.strftime(\"%d%m%Y\"))\n",
    "parser.add_argument(\"--sgr\",dest=\"sgr\",help=\"to make sgr files with read counts for each genomic position. Default is off\",action=\"store_true\",default=False)\n",
    "parser.add_argument(\"-b\",\"--barcodes\",dest=\"barcodes\",help=\"the path to the file containing the list of barcodes. If you do not provide a barcode file, the demultiplexing step will fail\",metavar=\"barcodes.txt\",default=None)\n",
    "parser.add_argument(\"-a\",\"--adapterfile\",dest=\"adapterfile\",help=\"file containing the 3' adapter sequences for trimming the reads using flexbar. If you do not provide adapter file or preset\",default=None)\n",
    "parser.add_argument(\"-aa\",\"--adapterpreset\",dest=\"adapterpreset\",help=\"adapter preset string [TruSeq, SmallRNA, Methyl, Ribo, Nextera, and NexteraMP]. Requires Flexbar version 3.4.0 or later.\",default=None)\n",
    "parser.add_argument(\"-m\",\"--mismatches\",dest=\"mismatches\",type=int,help=\"indicate how many mismatches you allow for demultiplexing. Default is 1\",default=1)\n",
    "parser.add_argument(\"-p\",\"--processors\",dest=\"processors\",type=int,help=\"indicate how many processors you want to use for analyses. Default is 8\",default=8)\n",
    "parser.add_argument(\"--genelist\",dest=\"genelist\",help=\"provide a genelist file for pileup analysis, with one gene name per line,\",default=None)\n",
    "parser.add_argument(\"--genometab\",dest=\"genometab\",help=\"provide a genome sequence file in pyCRAC tab format for pileup analysis\",default=None)\n",
    "parser.add_argument(\"--transcriptgff\",dest=\"transcriptgff\",help=\"provide a gff file containing only transcript sequences for count analysis\",default=None)\n",
    "args = parser.parse_args()"
   ]
  },
  {
   "cell_type": "markdown",
   "id": "33adc234",
   "metadata": {},
   "source": [
    "In python to define a function the syntax is __def__ function name(parameters): and then on a new line a defintion of the function so the below creates the function getBarcodeInfo that operates on the input parameter BarcodeInfo"
   ]
  },
  {
   "cell_type": "markdown",
   "id": "df00747f",
   "metadata": {},
   "source": [
    "This set of code is used to define all the functions to be used in the pipeline - these functions can then be provided to rufus alongside their connection and the programme will direct data correctly through this"
   ]
  },
  {
   "cell_type": "code",
   "execution_count": null,
   "id": "266b0328",
   "metadata": {},
   "outputs": [],
   "source": [
    "#this is a function to return the .fastq barcode file in the desired format\n",
    "def getBarcodeInfo(barcodefile):\n",
    "\treturn [\"%s.fastq\" % \"_\".join(line.strip().split()) for line in open(barcodefile,\"r\").readlines()]\n",
    "\t"
   ]
  },
  {
   "cell_type": "markdown",
   "id": "225004db",
   "metadata": {},
   "source": [
    "The program Flexbar preprocesses high-throughput sequencing data efficiently. It demultiplexes barcoded runs and removes adapter sequences - it is available on GitHub"
   ]
  },
  {
   "cell_type": "markdown",
   "id": "33728b3d",
   "metadata": {},
   "source": [
    "A command line interpreter allows the user to interact with a program using commands in the form of text lines - users can type their requests and queries as required and obtain the desired results. cmd is a module to provide the line oriented interpreter framework.\n",
    "\n",
    "The os module provides a portable way of using operating system dependent functionality, this is a program that acts as an interface between the system hardware and the user."
   ]
  },
  {
   "cell_type": "markdown",
   "id": "8d8665f6",
   "metadata": {},
   "source": [
    "NOTE: These functions now all specify inputfile as the input, and outputfile as the output which allows them all to be linked to one another as a file ouput from the first can move into the next."
   ]
  },
  {
   "cell_type": "code",
   "execution_count": null,
   "id": "4e5c878e",
   "metadata": {},
   "outputs": [],
   "source": [
    "#This function defines the input,runs Flexbar on this and defines and output format to remove adapter sequences\n",
    "#qflags is a kind of enum, a data type consisting of a set of named values called elements. \n",
    "#The QFlags class provides a type-safe way of storing OR-combinations of enum values\n",
    "\n",
    "def runFlexBar(inputfile,outputfile,qflags = \"-q TAIL -qf i1.8 -qt 30 --qtrim-post-removal\"):\n",
    "\t\"\"\" runs Flexbar on the data to remove the adapter sequence from the forward reads \"\"\"\n",
    "\tif args.adapterfile:\n",
    "\t\tcmd = \"flexbar -r '%s' --output-reads '%s' -n 10 %s -ao 5 --adapters '%s'\" % (inputfile,outputfile,qflags,args.adapterfile)\n",
    "\telif args.adapterpreset:\n",
    "\t\tcmd = \"flexbar -r '%s' --output-reads '%s' -n 10 '%s' -ao 5 -aa '%s'\" % (inputfile,outputfile,qflags,args.adapterpreset)\n",
    "\telse:\n",
    "\t\tcmd = \"flexbar -r '%s' --output-reads '%s' -n 10 '%s' -ao 5\" % (inputfile,outputfile,qflags)\n",
    "\tlogger.info(cmd)\n",
    "\tos.system(cmd)"
   ]
  },
  {
   "cell_type": "markdown",
   "id": "baf6d10d",
   "metadata": {},
   "source": [
    "pyBarcodeFilter.py is one of the codes provided in the pyCRAC software - The tool looks for barcodes in 5' ends of reads and generates separate data files for each barcode in a minimal FASTQ format. Once the tool identies a barcode, the barcode sequence and corresponding quality characters are removed from the raw data and placed in a separate output file."
   ]
  },
  {
   "cell_type": "code",
   "execution_count": null,
   "id": "999c9da6",
   "metadata": {},
   "outputs": [],
   "source": [
    "#this function used the Barcodefilter tool to demultiplex the input .fastq file with all the raw reads\n",
    "#notice here that -f, -b, -m etc are arguments specified in the parsing at the beginning, so rufus can call what to use for the command\n",
    "def demultiplexSamples(inputfile,outputfile):\n",
    "\t\"\"\" demultiplexes all the samples \"\"\"\n",
    "\tos.chdir(os.path.join(root_dir,\"demultiplexed\"))\n",
    "\tcmd = \"pyBarcodeFilter.py -f '%s' -b '%s' -m '%s'\" % (inputfile,os.path.join(home_dir,args.barcodes),args.mismatches)\n",
    "\tlogger.info(cmd)\n",
    "\tos.system(cmd)\n",
    "\tos.chdir(root_dir)"
   ]
  },
  {
   "cell_type": "markdown",
   "id": "515243e9",
   "metadata": {},
   "source": [
    "During demultiplexing, pyBarcodeFilter will attach the two hashes and random barcode sequence to the read header. pyFastqDuplicateRemover scans the header for the presence of two hashes near the end and assumes that the sequence following these hashes is the random barcode sequence. If it encounters two identical (paired-) sequences with the same random barcode sequences, it assumes they are PCR duplicates and collapse them into one sequence. Produces a fasta output file\n",
    "\n",
    "e.g FCC0TU2ACXX:4:1101:1968:2135#ACAGTGAT1##GTTCTC"
   ]
  },
  {
   "cell_type": "code",
   "execution_count": null,
   "id": "e2ab8139",
   "metadata": {},
   "outputs": [],
   "source": [
    "def collapseDuplicates(inputfile,outputfile):\n",
    "\t\"\"\" Removes the last random nucleotide from the forward read, collapses the data and then splits it again into fasta files \"\"\"\n",
    "\tcmd = \"pyFastqDuplicateRemover.py -f '%s' -o '%s'\" % (inputfile,outputfile)\n",
    "\tlogger.info(cmd)\n",
    "\tos.system(cmd)\n",
    "\t"
   ]
  },
  {
   "cell_type": "markdown",
   "id": "3304da9b",
   "metadata": {},
   "source": [
    "Novoalign runs as a package in python, it is an alignment tool for Illumina reads and accurately maps reads to a reference genome.\n",
    "* -d specifies the reference genome for novoalign\n",
    "* -o specifies the output format\n",
    "* -f was specified as the forward reads in parsing\n",
    "* -r sets the rules for handling of reads with multiple alignment locations, Random mode will randomly chose a single alignment location from amongst all the alignment results."
   ]
  },
  {
   "cell_type": "code",
   "execution_count": null,
   "id": "e93c6e65",
   "metadata": {},
   "outputs": [],
   "source": [
    "def alignReads(inputfile,outputfile,alignfiletype = \"SAM\"):\n",
    "\t\"\"\" Runs novoalign on all the collapsed files\"\"\"\n",
    "\tcmd = \"novoalign -d '%s' -o '%s' -f '%s' -r Random > '%s'\" % (args.novoindex,alignfiletype,inputfile,outputfile)\n",
    "\tlogger.info(cmd)\n",
    "\tos.system(cmd)"
   ]
  },
  {
   "cell_type": "markdown",
   "id": "76a4dc86",
   "metadata": {},
   "source": [
    "After aligning the reads to the reference genome the  rst thing we routinely do is generate hit tables describing the number of reads that mapped to genes or transcripts and to which features they were mapped. The pyReadCounters program takes the Novoalign or BAM/SAM file and asks which reads overlap with genomic features from a GTF file. This produces three outputs: \n",
    "* (1) A text file containing information about the complexity of the sequencing data\n",
    "* (2) a GTF file containing all the genomic mapping positions of cDNA sequences and overlapping genomic features (both sense and anti -sense)\n",
    "* (3) a hit table text file that shows for each genomic feature the number of intervals that mapped sense or anti -sense."
   ]
  },
  {
   "cell_type": "code",
   "execution_count": null,
   "id": "465315d0",
   "metadata": {},
   "outputs": [],
   "source": [
    "def runPyReadCounters(inputfile,outputfile,alignfiletype=\"sam\"):\n",
    "\t\"\"\" runs pyReadCounters on all the files \"\"\"\n",
    "\toutputfile = re.search(\"(.*)_count_output_reads.gtf\",outputfile).group(1)\n",
    "\tcmd = \"pyReadCounters.py -f '%s' --gtf '%s' -v --rpkm -o '%s' --file_type='%s' \" % (inputfile,args.gtf,outputfile,alignfiletype)\n",
    "\tlogger.info(cmd)\n",
    "\tos.system(cmd)\n",
    "\t"
   ]
  },
  {
   "cell_type": "code",
   "execution_count": null,
   "id": "db1df1af",
   "metadata": {},
   "outputs": [],
   "source": [
    "#here the program is asking pyReadCounters to not track any mutations (it can track only deletions/or specific mutations)\n",
    "#the --blocks option states reads with the same start and end coordinates on a chromosome will be counted as one\n",
    "def runPyReadCountersBlocksNoMuts(inputfile,outputfile,alignfiletype=\"sam\"):\n",
    "\t\"\"\" runs pyReadCounters on all the files with options --mutations  nomuts --blocks \"\"\"\n",
    "\toutputfile = re.search(\"(.*)_count_output_cDNAs.gtf\",outputfile).group(1)\n",
    "\tcmd = \"pyReadCounters.py -f '%s' --gtf '%s' -v --rpkm -o '%s' --file_type='%s' --mutations  nomuts --blocks\" % (inputfile,args.gtf,outputfile,alignfiletype)\n",
    "\tlogger.info(cmd)\n",
    "\tos.system(cmd)\n",
    "\t"
   ]
  },
  {
   "cell_type": "markdown",
   "id": "0491b746",
   "metadata": {},
   "source": [
    "pyGTFsgr is a tool that produces sgr files from cluster, motif or interval GTF files and these can be loaded into the genome browsers to visualise read distribution over the genome. \n",
    "Inputs:\n",
    "* a GTF file with intervals\n",
    "* tab-delimited file containing information about the length of each chromosome (this is -c in the parser and refered to in the code)\n",
    "The --zeros flag asks for chromsomal positions without any covergae to still be reported\n",
    "By default, the script assumes that each interval is unique and ignores the number of identical reads reported by pyReadCounters. The --count flag asks to include duplicate reads"
   ]
  },
  {
   "cell_type": "code",
   "execution_count": null,
   "id": "30e9a3d6",
   "metadata": {},
   "outputs": [],
   "source": [
    "def makeCoverageSgrFiles(inputfile,outputfiles):\n",
    "\t\"\"\" takes the pyReadCounters gtf output files and generates coverage sgr files \"\"\"\n",
    "\toutputfile = re.search(\"(.*)_plus.sgr\",outputfiles[0]).group(1)\n",
    "\tcmd = \"pyGTF2sgr.py --gtf '%s' --zeros --count -v -o '%s' -c '%s'\" % (inputfile,outputfile,args.chromosome)\n",
    "\tlogger.info(cmd)\n",
    "\tos.system(cmd)\n",
    "\t\t"
   ]
  },
  {
   "attachments": {
    "bedgraphPlot.png": {
     "image/png": "[encoded data removed]"
    }
   },
   "cell_type": "markdown",
   "id": "66fd98c4",
   "metadata": {},
   "source": [
    "BedGraph is a file format that allows display of continuous-valued data in a track in genome browsers\n",
    "![bedgraphPlot.png](attachment:bedgraphPlot.png)\n",
    "pyGFT2bedGraph is the pyCRAC tool to generate bedgraphs. Inputs are the same as for the GTF2sgr, as it is a variation in the output of the same data.\n",
    "Parameters:\n",
    "* The --count flag instructs to include all reads (inc duplicates)\n",
    "* The --permillion flag instructs to normalise hits per million (the GTF file must contain the total number of mapped reads)"
   ]
  },
  {
   "cell_type": "code",
   "execution_count": null,
   "id": "29cb445c",
   "metadata": {},
   "outputs": [],
   "source": [
    "def makeCoverageBedgraphFiles(inputfile,outputfiles):\n",
    "\t\"\"\" takes the pyReadCounters gtf output files and generates bedgraph files for viewing of the data in genome browsers \"\"\"\n",
    "\toutputfile = re.search(\"(.*)_plus.bedgraph\",outputfiles[0]).group(1)\n",
    "\tcmd = \"pyGTF2bedGraph.py --gtf '%s' --count -v --permillion -o '%s' -c '%s'\" % (inputfile,outputfile,args.chromosome)\n",
    "\tlogger.info(cmd)\n",
    "\tos.system(cmd)"
   ]
  },
  {
   "cell_type": "markdown",
   "id": "2a0e48d7",
   "metadata": {},
   "source": [
    "Assessing the background level by negative controls is often not possible. An FDR algorithm can be used to indicate that the probability that the region being considered is not significantly enriched (i.e false positive).\n",
    "Input files: \n",
    "* (1) a pyReadCounters GTF output file\n",
    "* (2) a GTF annotation file\n",
    "* (3) a tab delimited file containing chromosome names and chromosome lengths.\n",
    "For each feature in the GTF annotation file it calculates the minimum number of over-lapping reads required to obtain an FDR less than or equal to the set threshold and reports genomic intervals with at least this read coverage in the GTF output file.\n",
    "Here they specify they only want to see peaks with suitable FDRs on protein-coding genes"
   ]
  },
  {
   "cell_type": "code",
   "execution_count": null,
   "id": "6c19690c",
   "metadata": {},
   "outputs": [],
   "source": [
    "def runPyCalculateFDRs(inputfile,outputfile):\n",
    "\t\"\"\" runs pyCalculateFDRs.py to find peaks with false discovery rates, on protein-coding genes \"\"\"\n",
    "\tcmd = \"pyCalculateFDRs.py -f '%s' -o '%s' -c '%s' --gtf '%s' -a protein_coding -m 0.01 --min=5 \" % (inputfile,outputfile,args.chromosome, args.gtf)\n",
    "\tlogger.info(cmd)\n",
    "\tos.system(cmd)"
   ]
  },
  {
   "cell_type": "markdown",
   "id": "ff92a54c",
   "metadata": {},
   "source": [
    "The genome browser is a very useful tool to visualise read distribution on chromosomes; however, often it is more convenient to generate separate pileup files for individual genes or chromosomal regions.\n",
    "input files: \n",
    "* (1) file containing the mapping data (-f option)\n",
    "* (2) a GTF feature file (- -gtf flag),\n",
    "* (3) a genomic reference sequence file in the tab format (--tab)\n",
    "* (4) a text file containing information about the genes/-transcripts of interest (-g).\n",
    "The code here will produce an output file for the provided genes (-g) that contains six columns in which each line consists of the gene or feature name, the 1-based coordinate, the reference base, the number of reads that cover that base, the number of times the reference base was substituted in reads and the number of times the reference base was deleted in reads."
   ]
  },
  {
   "cell_type": "code",
   "execution_count": null,
   "id": "05ce4a62",
   "metadata": {},
   "outputs": [],
   "source": [
    "def runPyPileup(inputfile,outputfile,alignfiletype = \"sam\"):\n",
    "\t\"\"\" runs pyPileup.py to make pileup tables of reads and deletions/mutations for a given genelist \"\"\"\n",
    "\tcmd = \"pyPileup.py -f '%s' -o '%s' --tab '%s' --gtf '%s' --file_type='%s' -g '%s'\" % (inputfile,outputfile,args.genometab, args.gtf, alignfiletype, args.genelist)\n",
    "\tlogger.info(cmd)\n",
    "\tos.system(cmd)\n",
    "\t"
   ]
  },
  {
   "cell_type": "markdown",
   "id": "e947b7bf",
   "metadata": {},
   "source": [
    "Given a file with aligned sequencing reads and a list of genomic features, a common task is to count how many reads map to each feature (a feature is here an interval, i.e.a range of positions, on a chromosome). In the case of RNA-Seq, the features are typically genes and each gene is considered as the union of all its exons. \n",
    "\n",
    "__The script htseq-count is a tool for RNA-Seq data analysis: Given a SAM/BAM file and a GTF or GFF file with gene models, it counts for each gene how many aligned reads overlap its exons.__"
   ]
  },
  {
   "cell_type": "code",
   "execution_count": null,
   "id": "364a5473",
   "metadata": {},
   "outputs": [],
   "source": [
    "def runHTSeqCountTranscripts(inputfile,outputfile,minaqual=2):\n",
    "\t\"\"\" runs htseq-count to assign reads to primary transcript features \"\"\"\n",
    "\t# Note: this did not play well with novoalign reads, so not being run for now.\n",
    "\tcmd = \"htseq-count -n 8 -a '%s' --counts_output '%s' '%s' '%s'  \" % (minaqual, outputfile, inputfile, args.gtf)\n",
    "\tlogger.info(cmd)\n",
    "\tos.system(cmd)"
   ]
  },
  {
   "cell_type": "markdown",
   "id": "b020d46f",
   "metadata": {},
   "source": [
    "sort commands can be used to structure files (usually alphabeticaly) in a way that makes sense to the user. This function is organising and compressing .SAM files (generated in the pipeline) to .BAM format"
   ]
  },
  {
   "cell_type": "code",
   "execution_count": null,
   "id": "fa1cbdbd",
   "metadata": {},
   "outputs": [],
   "source": [
    "def sortBamFiles(inputfile,outputfile):\n",
    "\t\"\"\" sorts .sam file, to produce a sorted compressed .bam \"\"\"\n",
    "\toutputfile = outputfile\n",
    "\tcmdsort = \"samtools view -b '%s' | samtools sort -@ 3 -O bam -o '%s' -T '%s'/tmp - \" % (inputfile, outputfile, root_dir)\n",
    "\tlogger.info(cmdsort)\n",
    "\tos.system(cmdsort)"
   ]
  },
  {
   "cell_type": "markdown",
   "id": "61c1e719",
   "metadata": {},
   "source": [
    "The .sam files have now been compressed to the binary format .bam, a binary 'blob' that stores all of your aligned sequence data. Bam files can have a companion file, called an index file. This file has the same name, suffixed with .bai. This file acts like an external table of contents, and allows programs to jump directly to specific parts of the bam file without reading through all of the sequences. The below function acts to produce these, meaning an easily used library for the algorithm can be made."
   ]
  },
  {
   "cell_type": "code",
   "execution_count": null,
   "id": "a1737276",
   "metadata": {},
   "outputs": [],
   "source": [
    "def indexBamFiles(inputfile,outputfile):\n",
    "\t\"\"\" indexes a sorted .bam file, to produce a matching .bam.bai \"\"\"\n",
    "\tcmdindex = \"samtools index '%s' \" % (inputfile)\n",
    "\tlogger.info(cmdindex)\n",
    "\tos.system(cmdindex)"
   ]
  },
  {
   "cell_type": "markdown",
   "id": "afed9509",
   "metadata": {},
   "source": [
    "FastQC is a quality control tool for high throughput sequence data - provides a set of modular reports that you can use to assess if your data has any problems before you use it. Supports import of data from .BAM, .SAM and fastq files. Equally, BamQC is an application which takes a BAM file containing mapped data and runs a series of tests on it to generate a comprehensive QC report - judged on how far it departs from what you'd expect from a normal large data set with no significant biases."
   ]
  },
  {
   "cell_type": "code",
   "execution_count": null,
   "id": "0d7761c6",
   "metadata": {},
   "outputs": [],
   "source": [
    "def runFastQC(inputfile,outputfile):\n",
    "\t\"\"\" runs fastQC on input fastq file \"\"\"\n",
    "\toutputdir = os.path.split(outputfile)[0]\n",
    "\tcmd = \"fastqc -o '%s' '%s'\" % (outputdir, inputfile)\n",
    "\tlogger.info(cmd)\n",
    "\tos.system(cmd)\n",
    "\n",
    "def runBamQC(inputfile,outputfile):\n",
    "\t\"\"\" runs BamQC on input bam/sam file \"\"\"\n",
    "\toutputdir = os.path.split(outputfile)[0]\n",
    "\tcmd = \"bamqc -o '%s' '%s'\" % (outputdir, inputfile)\n",
    "\tlogger.info(cmd)\n",
    "\tos.system(cmd)"
   ]
  },
  {
   "cell_type": "markdown",
   "id": "8270f5f1",
   "metadata": {},
   "source": [
    "* BED files are a text file format used to store genomic regions as coordinates and associated annotations.\n",
    "bedtools multicov is a tool that reports the count (how many) of alignments in multiple indexed BAM (bai)files that are overlapping the intervals in a BED file. Specifically, for each BED interval provided, it reports a separate count of overlapping alignments from each BAM file.\n",
    "\n",
    "The early part of the code for this function is (I think) setting out the indexed BAM files to use the cmd= term calls multiBamCov, -s means require same strandedness (only report hits in B that overlap A on the same strand), -bed specifies the BED file with the region to be considered, -bams species the BAM files created above should be used."
   ]
  },
  {
   "cell_type": "code",
   "execution_count": null,
   "id": "9f5c763a",
   "metadata": {},
   "outputs": [],
   "source": [
    "def runMultiCovTranscript(inputfiles,outputfile):\n",
    "\t\"\"\" counts reads to transcript features with bedtools multiBamCov \"\"\"\n",
    "\tinputfileorder = ' '.join(inputfiles)\n",
    "\tinputfilebasenames = [ os.path.basename(f) for f in inputfiles ] \n",
    "\tlogger.info(\"multiBamCov file order is %s\" % ' '.join(inputfilebasenames))\n",
    "\twith open(outputfile, \"w\") as outhandle:\n",
    "\t\touthandle.write( \"# allsample_transcriptcounts.txt - counts to transcripts from multiBamCov\\n\")\n",
    "\t\touthandle.write( \"# Run from CRAC_pipeline_SE_demult_dedup.py\\n\")\n",
    "\t\touthandle.write( \"# %s, date %s\\n\" % (args.name, time.strftime(\"%d-%m-%Y\")))\n",
    "\t\touthandle.write( \"%s\\n\" % '\\t'.join(GFF_FIELDS + inputfilebasenames))\n",
    "\tcmd = \"multiBamCov -s -bed '%s' -bams %s >> '%s'\" % (args.transcriptgff, inputfileorder, outputfile)\n",
    "\tlogger.info(cmd)\n",
    "\tos.system(cmd)"
   ]
  },
  {
   "cell_type": "markdown",
   "id": "0ac66a77",
   "metadata": {},
   "source": [
    "bedtools genomecov is a tool that produces summaries of feature coverage (e.g., aligned sequences) for a given genome. This includes in the bedGraph format, which allows display of continuous-valued data in track format as shades of colour/bars of varying height along the genome (see above).\n",
    "\n",
    "The cmd lines:\n",
    "* specify the genomeCoverageBed program\n",
    "* -bg asks the programe to report depth in BedGraph format (as histogram is the default)\n",
    "* -strand means calculate coverage of intervals from a specific strand (specified as + or -)\n",
    "* -ibam is the BAM file used as input for coverage"
   ]
  },
  {
   "cell_type": "code",
   "execution_count": null,
   "id": "f271be03",
   "metadata": {},
   "outputs": [],
   "source": [
    "def makeGenomeCoverageBedgraph(inputfile,outputfiles):\n",
    "\t\"\"\" takes the sorted indexed bam files and generates bedgraph files for viewing of the data in genome browsers \"\"\"\n",
    "\toutputfile = re.search(\"(.*)_plus.bedgraph\",outputfiles[0]).group(1)\n",
    "\tcmdplus = \"genomeCoverageBed -bg -strand + -ibam %s > %s\" % (inputfile,outputfiles[0])\n",
    "\tlogger.info(cmdplus)\n",
    "\tos.system(cmdplus)\n",
    "\tcmdminus = \"genomeCoverageBed -bg -strand - -ibam %s > %s\" % (inputfile,outputfiles[1])\n",
    "\tlogger.info(cmdminus)\n",
    "\tos.system(cmdminus)"
   ]
  },
  {
   "cell_type": "markdown",
   "id": "08e24c8c",
   "metadata": {},
   "source": [
    "To run the pipelune all of the dependent programs (including all of the pyCRAC tools used in functions above) must be installed. This function checks all of the required programs are installed."
   ]
  },
  {
   "cell_type": "code",
   "execution_count": null,
   "id": "9bb08b12",
   "metadata": {},
   "outputs": [],
   "source": [
    "### checking if dependencies are installed\n",
    "\n",
    "dependencies = [\"flexbar\",\"pyGTF2sgr.py\",\"pyGTF2bedGraph.py\",\"pyReadCounters.py\",\"pyBarcodeFilter.py\",\"pyFastqJoiner.py\",\"pyFastqSplitter.py\",\"novoalign\",\"pyFastqDuplicateRemover.py\",\"samtools\",\"fastqc\",\"bamqc\",\"multiBamCov\"]\n",
    "\n",
    "for i in dependencies:\n",
    "\tcmd = \"where\" if platform.system() == \"Windows\" else \"which\"\n",
    "\ttry: \n",
    "\t\tsubprocess.call([cmd, \"%s\"])\n",
    "\texcept: \n",
    "\t\tsys.stderr.write(\"%s is not installed (properly) on your system. Please (re)install\" % i)\n",
    "\t\texit()\n",
    "\t\t"
   ]
  },
  {
   "cell_type": "markdown",
   "id": "27d174fe",
   "metadata": {},
   "source": [
    "Having specified all of the functions, the rufus pipeline can now be constructed. Rufus works to move through the pipeline as a series of files. You provide the python functions to provide the data transformations, tell ruffus how the functions are connected and it will direct the correct data through the pipeline at the correct time.\n",
    "\n",
    "NOTE: rufus requires python to be writen in a certain way so the coding here is very specific.\n",
    "\n",
    "The approximate steps in the CRAC analysis pipeline are:\n",
    "1. Trimming the reads - In the Illumina workflow adapter sequences are added to the end of RNA fragments by the PCR so that the cDNA has sequences complementary to graft sequences fixed on the flowcell, causing hybridisation. Bridge amplification can then generate clusters and forward strands can be sequenced (following denaturing and clevage). __The 3'adapter sequnce is one of the input files__\n",
    "2. Demultiplexing the reads - Multiplexing allows sequencing of libraries of RNA fragments derived from several samples in a single pool, as the number of reads produced from a single flow cell lane often exceeds the coverage required by a single library. To do this a short barcode of ~6nt is added to each DNA fragment during the PCR amplification step of library preparation. Following sequencing, this allows each read to be traced back to the original library and sorted into an appropriate ‘bin'. __The barcodes and the sample they correspond to are one of the input files__\n",
    "* The runfastQC tool is used to check the quality of the demultiplexed sequence data and the collapse duplicates function is used to remove any sequences considered to be PCR duplicates.\n",
    "3. Align the reads - The short reads generated by RNA-seq must be aligned to a reference genome. This provides biological information as aligned reads become annotated with the genomic features (e.g gene) in the region and the number of them approximates the abundance of those features in the original sample. Here, __Novoalign is the alignment algorithm used to do this__, and the function alignReads created earlier specified the parameters (match identically or penalties for insertions/deletions/gaps etc).\n",
    "* The quality control functions (runBAMQC) are used at this point to assess the quality of the alignment. The sorting and indexing tools are then used to structure the output BAM files.\n",
    "4. Mapping reads to genomic features - the functions used earlier are used to count (in tables) the number of reads in the Novoalign BAM outputs that are present within regions of particular genes (provided as an input).\n",
    "* The makeCoverageBedgraphFiles function is then used to convert the output of these counting functions (GTF and tables) into files that can be used by the BedGraphing algorithms\n",
    "5. Making BedGraph files - allows the information of the alignment (density at features) to be visualised along the genome\n",
    "* The pyPileUp function allows read distribution in a certain chromosomal region to be shown, while pyCalculateFDR can identify provide the probability that read density in a region is significantly enriched.\n",
    "* The bedtools functions defined earlier are used for presentation of the data."
   ]
  },
  {
   "cell_type": "code",
   "execution_count": null,
   "id": "82fbc74d",
   "metadata": {},
   "outputs": [],
   "source": [
    "### start of pipeline\n",
    "\n",
    "# setting the main working directory\n",
    "home_dir = os.getcwd()\n",
    "root_dir = \"%s/%s\" % (home_dir,args.name)\n",
    "try:\n",
    "\tos.mkdir(root_dir)\n",
    "except OSError:\n",
    "\tpass\n",
    "\n",
    "### setting up logging\n",
    "if not args.log_file:\n",
    "\tlogfile = \"%s/%s\" % (root_dir,\"log_file.txt\")\n",
    "else:\n",
    "\tlogfile = \"%s/%s\" % (root_dir,args.log_file)\n",
    "logger, logger_mutex = cmdline.setup_logging (\"CRAC_Pipeline_SE\",logfile,10)\n",
    "\n",
    "### setting the starting files\n",
    "\n",
    "startingfiles = [os.path.abspath(i) for i in args.forwardreads]\n",
    "\n",
    "logger.info(\"analysing the following files:\\n%s\\n\" % \"\\n\".join(startingfiles))\n",
    "\n",
    "### start of pipeline definition\n",
    "\n",
    "pipeline = Pipeline(name=\"Single-end data CRAC pipeline for multiplexed libraries\")\n",
    "\n",
    "logger.info(\"Trimming the reads\")\n",
    "pipeline.transform(task_func = runFlexBar,\n",
    "\t\t\t\t\tinput  = startingfiles,\n",
    "\t\t\t\t\tfilter = formatter(\"^.+/([^/]+).(san)?fastq\"),\t\t\t\t\t\t\n",
    "\t\t\t\t\toutput = \"%s/flexbar_trimmed/{1[0]}_trimmed.fastq\" % root_dir,\n",
    "\t\t\t\t).follows(pipeline.mkdir(os.path.join(root_dir,\"flexbar_trimmed\")))\n",
    "\t\t\t\n",
    "logger.info(\"Demultiplexing the reads\")\n",
    "pipeline.subdivide(task_func = demultiplexSamples,\n",
    "\t\t\t\t\tinput  = runFlexBar,\n",
    "\t\t\t\t\tfilter = formatter(\"^.+/([^/]+).fastq\"),\n",
    "\t\t\t\t\toutput = [\"%s/demultiplexed/{1[0]}_%s\" % (root_dir,barcodestring) for barcodestring in getBarcodeInfo(args.barcodes)]\n",
    "\t\t\t\t).follows(pipeline.mkdir(os.path.join(root_dir,\"demultiplexed\")))\n",
    "\n",
    "#logger.info(\"demultiplexed fastq quality control\")\n",
    "pipeline.transform( task_func = runFastQC,\n",
    "\t\t\t\t\tinput  = demultiplexSamples,\n",
    "\t\t\t\t\tfilter = formatter(\"^.+/([^/]+).fastq\"),\n",
    "\t\t\t\t\toutput = \"%s/demultiplexed_fastqc/{1[0]}_fastqc.html\" % root_dir,\n",
    "\t\t\t\t).follows(pipeline.mkdir(os.path.join(root_dir,\"demultiplexed_fastqc\")))\n",
    "\n",
    "pipeline.transform(task_func = collapseDuplicates,\n",
    "\t\t\t\t\tinput  = demultiplexSamples,\n",
    "\t\t\t\t\tfilter = formatter(\"^.+/([^/]+)_trimmed(?P<BARCODE>.*).fastq\"),\t\t\t\t\t\t\n",
    "\t\t\t\t\toutput = \"%s/collapsed/{1[0]}_trimmed{BARCODE[0]}.fasta\" % root_dir\n",
    "\t\t\t\t).follows(pipeline.mkdir(os.path.join(root_dir,\"collapsed\")))\n",
    "\n",
    "logger.info(\"Aligning reads\")\n",
    "pipeline.transform( task_func = alignReads,\n",
    "\t\t\t\t\tinput  = collapseDuplicates,\n",
    "\t\t\t\t\tfilter = formatter(\"^.+/([^/]+).fasta\"),\n",
    "\t\t\t\t\toutput = \"%s/aligned_sam/{1[0]}.sam\" % root_dir,\n",
    "\t\t\t\t).follows(pipeline.mkdir(os.path.join(root_dir,\"aligned_sam\")))\n",
    "\n",
    "#logger.info(\"aligned reads quality control\")\n",
    "pipeline.transform( task_func = runBamQC,\n",
    "\t\t\t\t\tinput  = alignReads,\n",
    "\t\t\t\t\tfilter = formatter(\"^.+/([^/]+).sam\"),\n",
    "\t\t\t\t\toutput = \"%s/aligned_bamqc/{1[0]}_bamqc.html\" % root_dir,\n",
    "\t\t\t\t).follows(pipeline.mkdir(os.path.join(root_dir,\"aligned_bamqc\")))\n",
    "\n",
    "pipeline.transform( task_func = sortBamFiles,\n",
    "\t\t\t\t\tinput  = alignReads,\n",
    "\t\t\t\t\tfilter = formatter(\"^.+/([^/]+).sam\"),\n",
    "\t\t\t\t\toutput = \"%s/aligned_bamsorted/{1[0]}.bam\" % root_dir, \n",
    "\t\t\t\t).follows(pipeline.mkdir(os.path.join(root_dir,\"aligned_bamsorted\")))\n",
    "\n",
    "pipeline.transform( task_func = indexBamFiles,\n",
    "\t\t\t\t\tinput  = sortBamFiles,\n",
    "\t\t\t\t\tfilter = formatter(\"^.+/([^/]+).bam\"),\n",
    "\t\t\t\t\toutput = \"%s/aligned_bamsorted/{1[0]}.bam.bai\" % root_dir, \n",
    "\t\t\t\t)\n",
    "\n",
    "logger.info(\"Mapping reads to genomic features\")\n",
    "pipeline.transform( task_func = runPyReadCounters,\n",
    "\t\t\t\t\tinput  = alignReads,\n",
    "\t\t\t\t\tfilter = formatter(\"^.+/([^/]+).sam\"),\n",
    "\t\t\t\t\toutput = \"%s/pyReadCounters_analyses/{1[0]}_count_output_reads.gtf\" % root_dir,\n",
    "\t\t\t\t).follows(pipeline.mkdir(os.path.join(root_dir,\"pyReadCounters_analyses\"))).follows(alignReads)\n",
    "\n",
    "pipeline.transform(task_func = runPyReadCountersBlocksNoMuts,\n",
    "\t\t\t\t\tinput  = alignReads,\n",
    "\t\t\t\t\tfilter = formatter(\"^.+/([^/]+).sam\"),\n",
    "\t\t\t\t\toutput = \"%s/pyReadCountersBlocksNoMuts_analyses/{1[0]}_blocks_nomuts_count_output_cDNAs.gtf\" % root_dir,\n",
    "\t\t\t\t).follows(pipeline.mkdir(os.path.join(root_dir,\"pyReadCountersBlocksNoMuts_analyses\"))).follows(alignReads)\n",
    "\n",
    "pipeline.subdivide(task_func = makeCoverageBedgraphFiles,\n",
    "\t\t\t\t\tinput  = runPyReadCountersBlocksNoMuts,\n",
    "\t\t\t\t\tfilter = formatter(\"^.+/([^/]+)_count_output_cDNAs.gtf\"),\n",
    "\t\t\t\t\toutput = [\"%s/bedgraph_files/{1[0]}_plus.bedgraph\" % root_dir,\"%s/bedgraph_files/{1[0]}_minus.bedgraph\" % root_dir]\n",
    "\t\t\t\t).follows(pipeline.mkdir(os.path.join(root_dir,\"bedgraph_files\"))).follows(runPyReadCountersBlocksNoMuts)\n",
    "\n",
    "logger.info(\"Making bedgraph files\")\n",
    "\n",
    "## Add: pyPileUp.py to calculate pileups with and without mutations/deletions on select genes\n",
    "if args.genelist:\n",
    "\tpipeline.transform(task_func = runPyPileup,\n",
    "\t\t\t\t\t\tinput  = alignReads,\n",
    "\t\t\t\t\t\tfilter = formatter(\"^.+/([^/]+).sam\"),\n",
    "\t\t\t\t\t\toutput = \"%s/pyPileup_analyses/{1[0]}_pileups.txt\" % root_dir,\n",
    "\t\t\t\t\t).follows(pipeline.mkdir(os.path.join(root_dir,\"pyPileup_analyses\"))).follows(alignReads)\n",
    "\n",
    "## Add: pyCalculateFDRs.py to calculate peaks and their occupancy\n",
    "pipeline.subdivide(task_func = runPyCalculateFDRs,\n",
    "\t\t\t\t\tinput  = runPyReadCounters,\n",
    "\t\t\t\t\tfilter = formatter(\"^.+/([^/]+)_count_output_reads.gtf\"),\n",
    "\t\t\t\t\toutput = \"%s/pyCalculateFDRs_analyses/{1[0]}_output_FDRs.gtf\" % root_dir\n",
    "\t\t\t\t).follows(pipeline.mkdir(os.path.join(root_dir,\"pyCalculateFDRs_analyses\"))).follows(runPyReadCounters)\n",
    "\n",
    "## Add: something to add up the number of reads per feature. Maybe genes inc. UTRs. \n",
    "# htseq-count was giving weird results with most reads unaligned, and aligned reads not mapped to features.\n",
    "# placed on branch EW_SE_htseq and abandoned for now\n",
    "# pipeline.transform(task_func = runHTSeqCountTranscripts,\n",
    "# \t\t\t\t\tinput  = alignReads,\n",
    "# \t\t\t\t\tfilter = formatter(\"^.+/([^/]+).sam\"),\n",
    "# \t\t\t\t\toutput = \"%s/HTSeqCountTranscript_analysis/{1[0]}_transcript_counts.txt\" % root_dir,\n",
    "# \t\t\t\t).follows(pipeline.mkdir(os.path.join(root_dir,\"HTSeqCountTranscript_analysis\"))).follows(alignReads)\n",
    "\n",
    "if args.transcriptgff:\n",
    "\tpipeline.merge(task_func = runMultiCovTranscript,\n",
    "\t\t\t\t\t\tinput  = sortBamFiles,\n",
    "\t\t\t\t\t\toutput = \"%s/multicov_analyses/allsample_transcriptcounts.txt\" % root_dir,\n",
    "\t\t\t\t\t).follows(pipeline.mkdir(os.path.join(root_dir,\"multicov_analyses\"))).follows(indexBamFiles)\n",
    "\n",
    "pipeline.subdivide(task_func = makeGenomeCoverageBedgraph,\n",
    "\t\t\t\t\tinput  = sortBamFiles,\n",
    "\t\t\t\t\tfilter = formatter(\"^.+/([^/]+).bam\"),\n",
    "\t\t\t\t\toutput = [\"%s/bedgraph_genomecov/{1[0]}_plus.bedgraph\" % root_dir,\"%s/bedgraph_genomecov/{1[0]}_minus.bedgraph\" % root_dir]\n",
    "\t\t\t\t).follows(pipeline.mkdir(os.path.join(root_dir,\"bedgraph_genomecov\"))).follows(indexBamFiles)\n",
    "\n",
    "### print out flowchart describing pipeline\n",
    "pipeline_printout_graph(\"%s/flowchart.jpg\" %root_dir)"
   ]
  },
  {
   "cell_type": "markdown",
   "id": "c01b35de",
   "metadata": {},
   "source": [
    "The pipeline for 'Single-end data CRAC pipeline for multiplexed libraries' has now been constructed, specifiying the route through the functions for input and output files. This can then now be run :) "
   ]
  },
  {
   "cell_type": "code",
   "execution_count": null,
   "id": "5e1ba7d5",
   "metadata": {},
   "outputs": [],
   "source": [
    "### run the pipeline\n",
    "pipeline_run(multiprocess=args.processors,verbose=5,checksum_level=3)"
   ]
  }
 ],
 "metadata": {
  "kernelspec": {
   "display_name": "Python 3",
   "language": "python",
   "name": "python3"
  },
  "language_info": {
   "codemirror_mode": {
    "name": "ipython",
    "version": 3
   },
   "file_extension": ".py",
   "mimetype": "text/x-python",
   "name": "python",
   "nbconvert_exporter": "python",
   "pygments_lexer": "ipython3",
   "version": "3.8.8"
  }
 },
 "nbformat": 4,
 "nbformat_minor": 5
}
